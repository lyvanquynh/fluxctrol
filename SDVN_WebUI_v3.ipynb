{
  "cells": [
    {
      "cell_type": "markdown",
      "metadata": {
        "id": "TNI-mB1xVWht"
      },
      "source": [
        " # [![](https://img.shields.io/badge/Thiết%20kế-stablediffusion.vn-0075ff)](https://stablediffusion.vn) [![](https://img.shields.io/badge/Phiên%20bản-v3.0-0075ff)](https://stablediffusion.vn/update/) [![](https://img.shields.io/badge/All%20Tools-sdvn.me-0075ff)](https://stablediffusion.vn/bo-cong-cu/) [![](https://img.shields.io/badge/Tools-Downloads-green)](https://colab.research.google.com/github/StableDiffusionVN/SDVN-WebUI/blob/main/SDVN_Download_tools.ipynb) [![](https://img.shields.io/badge/Check-Gradio%20Sever-orange)](https://status.gradio.app)  [![](https://img.shields.io/badge/Thư%20viện-Tài%20nguyên-green)](https://bit.ly/sdvn-lib) [![](https://img.shields.io/badge/Khoá%20học-SD%20Flux-red)](https://hungdiffusion.com/) [![](https://img.shields.io/badge/Group-SDVN-0075ff)](https://www.facebook.com/groups/stablediffusion.vn) [![](https://img.shields.io/discord/813085864355037235?color=blue&label=Discord&logo=Discord)](https://discord.gg/5SEtApPeyG) [![](https://img.shields.io/badge/Tải%20Model-Shakker-5858e6)](https://www.shakker.ai/?sourceId=000619/)\n",
        "___\n",
        "#### 💡 Tools bổ trợ:"
      ]
    },
    {
      "cell_type": "code",
      "execution_count": null,
      "metadata": {
        "cellView": "form",
        "id": "6AgOYhVDvLIm"
      },
      "outputs": [],
      "source": [
        "#@title ⚡️ Node ComfyUI\n",
        "\n",
        "#@markdown [![](https://img.shields.io/badge/Wiki-ComfyNode-fca311)](https://ltdrdata.github.io/)\n",
        "\n",
        "#ComfyUI Note\n",
        "#https://github.com/TheMistoAI/ComfyUI-Anyline\n",
        "Active =False #@param {type:\"boolean\"}\n",
        "CustomNote = \"https://github.com/comfyanonymous/ComfyUI_bitsandbytes_NF4\" #@param {type:\"string\"}\n",
        "\n",
        "if Active == True :\n",
        "  %cd /content/ComfyUI/custom_nodes\n",
        "  !git clone {CustomNote}\n",
        "  last_segment = CustomNote.rsplit('/', 1)[-1].strip()\n",
        "  !pip install -r {last_segment}/requirements.txt\n",
        "  %cd /content/ComfyUI"
      ]
    },
    {
      "cell_type": "code",
      "execution_count": null,
      "metadata": {
        "cellView": "form",
        "id": "vDI_Capbu5le"
      },
      "outputs": [],
      "source": [
        "#@title ⚡️ DownloadFile\n",
        "\n",
        "#@markdown [![](https://img.shields.io/badge/Flux-Toàn%20tập-fca311)](https://huggingface.co/StableDiffusionVN/Flux)\n",
        "\n",
        "#ComfyUI Note\n",
        "Download =False #@param {type:\"boolean\"}\n",
        "Link = \"https://huggingface.co/StableDiffusionVN/Flux/resolve/main/Controlnet/Instant_flux-union.safetensors\" #@param {type:\"string\"}\n",
        "Name = \"Instant_flux-union.safetensors\" #@param {type:\"string\"}\n",
        "Path = \"/content/ComfyUI/models/controlnet\" #@param {type:\"string\"}\n",
        "\n",
        "if Download ==True :\n",
        "  aria_down(Link,Path,Name)"
      ]
    },
    {
      "cell_type": "markdown",
      "metadata": {
        "id": "iz1atqKVsDdh"
      },
      "source": [
        "# 🚀 StableDiffusion.VN\n",
        "\n",
        "`🟢 Thêm Adetailer, Supermerge trong Forge-v2`"
      ]
    },
    {
      "cell_type": "code",
      "execution_count": null,
      "metadata": {
        "cellView": "form",
        "id": "tKU6gPdMVWh4"
      },
      "outputs": [],
      "source": [
        "#@title # ⚙️ 1.Tuỳ chọn phiên bản\n",
        "#@markdown [![](https://img.shields.io/badge/Video-Hướng%20dẫn-ff0000)](https://youtu.be/9rOWXzYtdGM) [![](https://img.shields.io/badge/Hướng%20dẫn%20-Sử%20dụng%20WebUI-5858e6)](https://stablediffusion.vn/huong-dan-chung/) [![](https://img.shields.io/badge/Tra%20cứu-Tính%20năng%20WebUI-green)](https://stablediffusion.vn/webui-catalog/) [![](https://img.shields.io/badge/Hướng%20dẫn%20-SD%20Nhập%20Môn-5858e6)](https://stablediffusion.vn/nhap-mon-stable-diffusion/)\n",
        "\n",
        "DriveSyn = True #@param {type:\"boolean\"}\n",
        "#Folder Option\n",
        "if DriveSyn:\n",
        "  from google.colab import drive\n",
        "  drive.mount('/content/drive')\n",
        "else:\n",
        "  User_folder = \"/content/SD-Data\"\n",
        "\n",
        "#Config\n",
        "\n",
        "SDVNFolder = '/content/SDVN-WebUI'\n",
        "if 'Version' not in globals():\n",
        "  !git clone https://github.com/StableDiffusionVN/SDVN-WebUI {SDVNFolder}\n",
        "  %env TF_CPP_MIN_LOG_LEVEL=1\n",
        "  %env LD_PRELOAD={SDVNFolder}/libtcmalloc_minimal.so.4\n",
        "  !sudo apt-get install aria2\n",
        "  !wget -c https://github.com/cloudflare/cloudflared/releases/latest/download/cloudflared-linux-amd64.deb\n",
        "  !dpkg -i cloudflared-linux-amd64.deb\n",
        "  !npm install -g localtunnel\n",
        "  test = 'test'\n",
        "\n",
        "#Option\n",
        "\n",
        "Version = \"Forge-v2\" #@param [\"Forge-v2\",\"ComfyUI\",\"Automatic\",\"Forge\",\"Fooocus\",\"Kohya\", \"AutoRetouch\"]\n",
        "Extensions = \"base\" #@param [\"base\",\"plus\",\"video\",\"train\"]\n",
        "Controlnet = \"base\" #@param [\"none\",\"base\",\"extra\",\"XL\"]\n",
        "# @markdown [![](https://img.shields.io/badge/💡-Bỏ%20chọn%20Prune%20để%20tải%20bản%20tiêu%20chuẩn-blue)]()\n",
        "Prune = True #@param {type:\"boolean\"}\n",
        "ExtraNode = False #@param {type:\"boolean\"}\n",
        "# @markdown [![](https://img.shields.io/badge/💡-Có%20thể%20nhập%20link%20tải%20hoặc%20tên%20model%20trong%20list%20khác-blue)]()\n",
        "SD15model = \"\"  #@param [\"\", \"StableDiffusion_v15.ckpt\", \"Chilloutmix\", \"RealisticVision51\", \"PhotographyProv8\", \"Deliberate\", \"DreamShaperv8\", \"A-ZovyaRPGv3\", \"HenmixRealv4\", \"Fantasticv65\", \"XXMix_9realisticv3\", \"MajicmixRealv6\", \"ReVAnimatedv122\", \"RunDiffusionFXv1\", \"BeautifulRealAsiansv6\", \"LEOSAM-MoonFilm-v2\",\"Counterfeit\", \"OrientalMix\", \"FishMix\", \"ThreeDelicacyv2\", \"GODofSIMP\", \"TheoldfishSpread\", \"Theoldfish\", \"NightSkyYOZORA\", \"GhostMixv2\", \"ToonYou-beta6\", \"ComicsArthemyv3\", \"MeinaMix-v11\", \"ManmaruMix-v2\"] {allow-input: true}\n",
        "SDXLmodel = \"\"  #@param [\"\",\"SDXL-Base\", \"XXMix_9realisticSDXL\", \"LEOSAM-HelloWorldXL\", \"AdamXL-v3\", \"JuggernautXL-v9\", \"ZavyChromaXL-v5\", \"Samaritan3dCartoon-v4\", \"DucHaiten-AIart-SDXL\", \"JuggernautXL\"] {allow-input: true}\n",
        "Fluxmodel = \"\"  #@param [\"\", \"Flux_dev_v1\", \"Flux_dev_v1-fp8\", \"Flux_dev_v1-nf4\", \"Flux_dev_Q4KS.gguf\", \"Flux_schnell_v1-fp8\", \"Flux-schnell-nf4\", \"Flux_schnell_Q4KS.gguf\"] {allow-input: true}\n",
        "SDVNmodel = \"\"  #@param [\"\", \"SDVN1-Real\", \"SDVN2-RealRPG\", \"SDVN3-RealArt-plus\", \"SDVN4-3DCuteVN\", \"SDVN5-3DCuteWave\", \"SDVN6-RealXL\", \"SDVN7-NijiStyle\", \"SDVN8-ArtXL\", \"SDVN10-Anime\", \"SDVN11-Ghibli-Flux_nf4-hyper\", \"SDVN11-Ghibli-Flux_fp8-hyper\"] {allow-input: true}\n",
        "InpaintMd = \"\"  #@param [\"\", \"StableDiffusion_v15.inpainting.ckpt\", \"SDXL-Base.inpainting.ckpt\",  \"RealisticVisionv5.inpainting\", \"DreamShaperv8.inpainting\",  \"SDVN1-Real.inpainting\"] {allow-input: true}\n",
        "\n",
        "#Install\n",
        "%run /content/SDVN-WebUI/Script.ipynb"
      ]
    },
    {
      "cell_type": "code",
      "execution_count": null,
      "metadata": {
        "cellView": "form",
        "id": "izo7cpPiVWh8"
      },
      "outputs": [],
      "source": [
        "#@title # ⌛️ 2.RUN\n",
        "DriveLib = True\n",
        "CommandLine = \"\" #@param {type:\"string\"}\n",
        "xformers_check()\n",
        "install_custom()\n",
        "import time\n",
        "run_ver(Version,CommandLine)"
      ]
    }
  ],
  "metadata": {
    "accelerator": "GPU",
    "colab": {
      "collapsed_sections": [
        "TNI-mB1xVWht"
      ],
      "gpuType": "T4",
      "machine_shape": "hm",
      "private_outputs": true,
      "provenance": []
    },
    "kernelspec": {
      "display_name": "Python 3",
      "name": "python3"
    },
    "language_info": {
      "name": "python"
    }
  },
  "nbformat": 4,
  "nbformat_minor": 0
}
